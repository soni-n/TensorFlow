{
  "nbformat": 4,
  "nbformat_minor": 0,
  "metadata": {
    "colab": {
      "name": "TF2.0 tutorial.ipynb",
      "provenance": [],
      "toc_visible": true
    },
    "kernelspec": {
      "name": "python3",
      "display_name": "Python 3"
    },
    "accelerator": "GPU"
  },
  "cells": [
    {
      "cell_type": "markdown",
      "metadata": {
        "id": "OEFmDxLgFfA3",
        "colab_type": "text"
      },
      "source": [
        "#Purpose\n",
        "\n",
        "This is a kick-starter tutorial helping you find your way building deep neural networks with Tensorflow 2.0 in Python!\n",
        "\n",
        "\n",
        "---\n",
        "\n",
        "\n",
        "\n",
        "\n",
        "\n",
        "By:\n",
        "\n",
        "Nikita Soni \n",
        "\n",
        "[Stony Brook University]\n",
        "\n",
        "\n",
        "\n",
        "---\n",
        "\n",
        "References:\n",
        "\n",
        "https://www.tensorflow.org/guide \n",
        "\n",
        "https://drive.google.com/file/d/1R1Ca8gN630u-Uclg-0iswPb6hyLAFXbS/view \n",
        "\n",
        "https://stackoverflow.com/ \n",
        "\n"
      ]
    },
    {
      "cell_type": "markdown",
      "metadata": {
        "id": "3e0moYN3V7j3",
        "colab_type": "text"
      },
      "source": [
        "# Setup/Install"
      ]
    },
    {
      "cell_type": "code",
      "metadata": {
        "id": "52pT51xBdb0b",
        "colab_type": "code",
        "colab": {}
      },
      "source": [
        "# To install (Colab has it by default)\n",
        "\n",
        "#pip install tensorflow"
      ],
      "execution_count": null,
      "outputs": []
    },
    {
      "cell_type": "code",
      "metadata": {
        "id": "sjrtg0a0dnw0",
        "colab_type": "code",
        "colab": {
          "base_uri": "https://localhost:8080/",
          "height": 34
        },
        "outputId": "8bbd665d-0cb7-41f5-d90c-75b272dbc5e2"
      },
      "source": [
        "# check version\n",
        "import tensorflow as tf\n",
        "print(tf.__version__)"
      ],
      "execution_count": null,
      "outputs": [
        {
          "output_type": "stream",
          "text": [
            "2.3.0\n"
          ],
          "name": "stdout"
        }
      ]
    },
    {
      "cell_type": "code",
      "metadata": {
        "id": "wmVab728dq0e",
        "colab_type": "code",
        "colab": {}
      },
      "source": [
        "import numpy as np"
      ],
      "execution_count": null,
      "outputs": []
    },
    {
      "cell_type": "markdown",
      "metadata": {
        "id": "JtAGOIOuLqz_",
        "colab_type": "text"
      },
      "source": [
        "#Tensors, Constants, Variables"
      ]
    },
    {
      "cell_type": "markdown",
      "metadata": {
        "id": "5MjP5wFbOlcm",
        "colab_type": "text"
      },
      "source": [
        "## Constants"
      ]
    },
    {
      "cell_type": "code",
      "metadata": {
        "id": "yGu366PFLp3b",
        "colab_type": "code",
        "colab": {}
      },
      "source": [
        "tf.constant(1)"
      ],
      "execution_count": null,
      "outputs": []
    },
    {
      "cell_type": "code",
      "metadata": {
        "id": "O5N3BxQuL4qA",
        "colab_type": "code",
        "colab": {}
      },
      "source": [
        "tf.constant([[1, 2, 3],\n",
        "             [4, 5, 6]])"
      ],
      "execution_count": null,
      "outputs": []
    },
    {
      "cell_type": "code",
      "metadata": {
        "id": "DaxpX6bwMBBO",
        "colab_type": "code",
        "colab": {}
      },
      "source": [
        "np.array(1)"
      ],
      "execution_count": null,
      "outputs": []
    },
    {
      "cell_type": "code",
      "metadata": {
        "id": "5FhaLepFMz4Q",
        "colab_type": "code",
        "colab": {}
      },
      "source": [
        "np.array([[1, 2, 3],\n",
        "          [4, 5, 6]])"
      ],
      "execution_count": null,
      "outputs": []
    },
    {
      "cell_type": "code",
      "metadata": {
        "id": "OFyYj0YFM2hJ",
        "colab_type": "code",
        "colab": {}
      },
      "source": [
        "a = tf.constant([[1, 2],\n",
        "                 [3, 4]])\n",
        "b = tf.constant([5, 6])\n",
        "sum = tf.add(a, b)\n",
        "prod = tf.multiply(a, b)\n",
        "\n",
        "print(\"sum = \", sum)\n",
        "print(\"prod = \", prod)"
      ],
      "execution_count": null,
      "outputs": []
    },
    {
      "cell_type": "code",
      "metadata": {
        "id": "bJ0N4GxmNWMt",
        "colab_type": "code",
        "colab": {}
      },
      "source": [
        "mat_mul = tf.matmul(a, tf.transpose(b))"
      ],
      "execution_count": null,
      "outputs": []
    },
    {
      "cell_type": "code",
      "metadata": {
        "id": "VsPHfCg6OOR1",
        "colab_type": "code",
        "colab": {}
      },
      "source": [
        "mat_mul = tf.matmul(a, tf.reshape(b, [2,1]))\n",
        "\n",
        "print(\"matrix product = \", mat_mul)"
      ],
      "execution_count": null,
      "outputs": []
    },
    {
      "cell_type": "code",
      "metadata": {
        "id": "v3GxGCfaOa4p",
        "colab_type": "code",
        "colab": {}
      },
      "source": [
        "tf.reshape(b, [2,1])"
      ],
      "execution_count": null,
      "outputs": []
    },
    {
      "cell_type": "markdown",
      "metadata": {
        "id": "E81tKD_m_4Wy",
        "colab_type": "text"
      },
      "source": [
        "In TF1 all of the above operations would not have executed directly, and returns an add operation (for add) that's an operation on a data flow graph, something like:\n",
        "\n",
        "    # Tensor(\"Add:0\", shape=(), dtype=int32)"
      ]
    },
    {
      "cell_type": "markdown",
      "metadata": {
        "id": "BNaaVjwxAsR-",
        "colab_type": "text"
      },
      "source": [
        "### To and from NumPy"
      ]
    },
    {
      "cell_type": "code",
      "metadata": {
        "id": "yQP8UcYLPJUM",
        "colab_type": "code",
        "colab": {}
      },
      "source": [
        "print(\"Tensor: \\n \", a)\n",
        "print(\"\\n Numpy: \\n \", a.numpy())"
      ],
      "execution_count": null,
      "outputs": []
    },
    {
      "cell_type": "code",
      "metadata": {
        "id": "_Sqe2Fg1Pawx",
        "colab_type": "code",
        "colab": {}
      },
      "source": [
        "ex = np.array([3,4])\n",
        "tf.convert_to_tensor(ex)"
      ],
      "execution_count": null,
      "outputs": []
    },
    {
      "cell_type": "markdown",
      "metadata": {
        "id": "q_TUUXMqOqAC",
        "colab_type": "text"
      },
      "source": [
        "## Variables"
      ]
    },
    {
      "cell_type": "code",
      "metadata": {
        "id": "3a5Js2ewOruC",
        "colab_type": "code",
        "colab": {}
      },
      "source": [
        "## Following code snippet is from Tensorflow's site/colab\n",
        "\n",
        "a = tf.Variable([2.0, 3.0])\n",
        "# Create b based on the value of a\n",
        "b = tf.Variable(a)\n",
        "a.assign([5, 6])\n",
        "\n",
        "# a and b are different\n",
        "print(a.numpy())\n",
        "print(b.numpy())\n",
        "\n",
        "# There are other versions of assign\n",
        "print(a.assign_add([2,3]).numpy())  # [7. 9.]\n",
        "print(a.assign_sub([7,9]).numpy())  # [0. 0.]"
      ],
      "execution_count": null,
      "outputs": []
    },
    {
      "cell_type": "code",
      "metadata": {
        "id": "dbFj9cQ-SNDP",
        "colab_type": "code",
        "colab": {}
      },
      "source": [
        "a.trainable"
      ],
      "execution_count": null,
      "outputs": []
    },
    {
      "cell_type": "code",
      "metadata": {
        "id": "G3Ln5JCySmla",
        "colab_type": "code",
        "colab": {}
      },
      "source": [
        "b.trainable"
      ],
      "execution_count": null,
      "outputs": []
    },
    {
      "cell_type": "code",
      "metadata": {
        "id": "EfYL28juSozS",
        "colab_type": "code",
        "colab": {}
      },
      "source": [
        "a = tf.Variable([2.0, 3.0], trainable=False)\n",
        "a.trainable"
      ],
      "execution_count": null,
      "outputs": []
    },
    {
      "cell_type": "markdown",
      "metadata": {
        "id": "ti9rF05mTBDD",
        "colab_type": "text"
      },
      "source": [
        "# Computational Graph"
      ]
    },
    {
      "cell_type": "markdown",
      "metadata": {
        "id": "FZ-mHu7WVzNs",
        "colab_type": "text"
      },
      "source": [
        "* Image Source: Tensorflow site"
      ]
    },
    {
      "cell_type": "markdown",
      "metadata": {
        "id": "FvQ5aBuRGT1o",
        "colab_type": "text"
      },
      "source": [
        "![a two-layer tensorflow graph](\t\n",
        "https://storage.cloud.google.com/tensorflow.org/images/two-layer-network.png)"
      ]
    },
    {
      "cell_type": "markdown",
      "metadata": {
        "id": "_4h0vXvaS6FS",
        "colab_type": "text"
      },
      "source": [
        "# What's with CPU and GPU?"
      ]
    },
    {
      "cell_type": "code",
      "metadata": {
        "id": "YAmIFZsjWDgs",
        "colab_type": "code",
        "colab": {}
      },
      "source": [
        "with tf.device('CPU:0'):\n",
        "  a = tf.Variable([1, 2, 3])\n",
        "  b = tf.Variable([4, 5, 6])\n",
        "  c = a * b\n",
        "\n",
        "print(c)"
      ],
      "execution_count": null,
      "outputs": []
    },
    {
      "cell_type": "code",
      "metadata": {
        "id": "nHM90HxzfrO0",
        "colab_type": "code",
        "colab": {}
      },
      "source": [
        "tf.test.is_gpu_available()"
      ],
      "execution_count": null,
      "outputs": []
    },
    {
      "cell_type": "code",
      "metadata": {
        "id": "ptsYJqkZgFZF",
        "colab_type": "code",
        "colab": {}
      },
      "source": [
        "print(tf.test.gpu_device_name())"
      ],
      "execution_count": null,
      "outputs": []
    },
    {
      "cell_type": "code",
      "metadata": {
        "id": "MN2JsDd1de10",
        "colab_type": "code",
        "colab": {}
      },
      "source": [
        "with tf.device('CPU:0'):\n",
        "  a = tf.Variable([1, 2, 3])\n",
        "  b = tf.Variable([4, 5, 6])\n",
        "\n",
        "with tf.device('/device:GPU:0'):\n",
        "  c = a * b\n",
        "\n",
        "print(c)"
      ],
      "execution_count": null,
      "outputs": []
    },
    {
      "cell_type": "markdown",
      "metadata": {
        "id": "EaSG6wcUi1RS",
        "colab_type": "text"
      },
      "source": [
        "Give it a try: https://colab.research.google.com/notebooks/gpu.ipynb "
      ]
    },
    {
      "cell_type": "markdown",
      "metadata": {
        "id": "RgsiivkiCnQi",
        "colab_type": "text"
      },
      "source": [
        "# Model Building"
      ]
    },
    {
      "cell_type": "markdown",
      "metadata": {
        "id": "0yBJUZA6Cr8z",
        "colab_type": "text"
      },
      "source": [
        "## Sequential model"
      ]
    },
    {
      "cell_type": "code",
      "metadata": {
        "id": "shW-QTDGCtwe",
        "colab_type": "code",
        "colab": {}
      },
      "source": [
        "model = tf.keras.models.Sequential([\n",
        "                            tf.keras.layers.Flatten(),\n",
        "                            tf.keras.layers.Dense(100, activation='relu')\n",
        "])\n",
        "\n",
        "model.layers"
      ],
      "execution_count": null,
      "outputs": []
    },
    {
      "cell_type": "code",
      "metadata": {
        "id": "JYN-35Oxaqcc",
        "colab_type": "code",
        "colab": {}
      },
      "source": [
        "# model.compile(optimizer= tf.keras.optimizers.Adam,\n",
        "#               loss= tf.keras.losses.categorical_crossentropy,\n",
        "#               metrics = tf.keras.metrics.Accuracy)\n",
        "\n",
        "\n",
        "# model.fit(x_train, y_train, epochs=10)\n",
        "# model.evaluate(x_test, y_test)"
      ],
      "execution_count": null,
      "outputs": []
    },
    {
      "cell_type": "markdown",
      "metadata": {
        "id": "JYALEMTeEBIJ",
        "colab_type": "text"
      },
      "source": [
        "## Functional model"
      ]
    },
    {
      "cell_type": "code",
      "metadata": {
        "id": "xNZq71SeEDsn",
        "colab_type": "code",
        "colab": {}
      },
      "source": [
        "from tensorflow.keras import layers\n",
        "\n",
        "inputs = tf.keras.Input(shape=[100, 20])\n",
        "dense = layers.Dense(128, activation='relu')\n",
        "output = dense(inputs)\n",
        "\n",
        "model = tf.keras.Model(inputs, output, name=\"mnist_model\")\n",
        "\n",
        "model.summary()\n"
      ],
      "execution_count": null,
      "outputs": []
    },
    {
      "cell_type": "markdown",
      "metadata": {
        "id": "cMCPx_W1FORR",
        "colab_type": "text"
      },
      "source": [
        "## Subclassed model"
      ]
    },
    {
      "cell_type": "code",
      "metadata": {
        "id": "aiAMzZ1CJcAX",
        "colab_type": "code",
        "colab": {}
      },
      "source": [
        "class demo_model(tf.keras.Model):\n",
        "  def __init__(self, units):\n",
        "    super(demo_model, self).__init__()\n",
        "    self.dense = layers.Dense(units, activation='relu')\n",
        "\n",
        "  def call(self, inputs):\n",
        "    return self.dense(inputs)"
      ],
      "execution_count": null,
      "outputs": []
    },
    {
      "cell_type": "code",
      "metadata": {
        "id": "jqIM1jHtbp3U",
        "colab_type": "code",
        "colab": {}
      },
      "source": [
        "# demo_model_instance = demo_model(units=128)\n",
        "# x = tf.constant([[3,3],\n",
        "#                 [4,5]])\n",
        "# demo_model_instance(x)"
      ],
      "execution_count": null,
      "outputs": []
    },
    {
      "cell_type": "markdown",
      "metadata": {
        "id": "i2PjxXDVTUYe",
        "colab_type": "text"
      },
      "source": [
        "# Logistic Regression"
      ]
    },
    {
      "cell_type": "markdown",
      "metadata": {
        "id": "kCYShnjDbL12",
        "colab_type": "text"
      },
      "source": [
        "## Dataset "
      ]
    },
    {
      "cell_type": "markdown",
      "metadata": {
        "id": "VNnrDZRBcmgC",
        "colab_type": "text"
      },
      "source": [
        "![image.png](data:image/png;base64,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)"
      ]
    },
    {
      "cell_type": "code",
      "metadata": {
        "id": "9viedAVsTWJ4",
        "colab_type": "code",
        "colab": {}
      },
      "source": [
        "from tensorflow.keras.datasets import mnist\n",
        "from tensorflow.keras import layers"
      ],
      "execution_count": null,
      "outputs": []
    },
    {
      "cell_type": "code",
      "metadata": {
        "id": "R7X8-sOlZTal",
        "colab_type": "code",
        "colab": {
          "base_uri": "https://localhost:8080/",
          "height": 51
        },
        "outputId": "f5af2481-4ac0-4557-e20d-417dad3b6919"
      },
      "source": [
        "(x_train, y_train), (x_test, y_test) = mnist.load_data()"
      ],
      "execution_count": null,
      "outputs": [
        {
          "output_type": "stream",
          "text": [
            "Downloading data from https://storage.googleapis.com/tensorflow/tf-keras-datasets/mnist.npz\n",
            "11493376/11490434 [==============================] - 0s 0us/step\n"
          ],
          "name": "stdout"
        }
      ]
    },
    {
      "cell_type": "code",
      "metadata": {
        "id": "5orBU889ZWRi",
        "colab_type": "code",
        "colab": {
          "base_uri": "https://localhost:8080/",
          "height": 34
        },
        "outputId": "6116be0e-cc3b-47e0-9d67-cde8f5e6b55b"
      },
      "source": [
        "x_train.shape"
      ],
      "execution_count": null,
      "outputs": [
        {
          "output_type": "execute_result",
          "data": {
            "text/plain": [
              "(60000, 28, 28)"
            ]
          },
          "metadata": {
            "tags": []
          },
          "execution_count": 13
        }
      ]
    },
    {
      "cell_type": "code",
      "metadata": {
        "id": "mwyQ_bAzZzUN",
        "colab_type": "code",
        "colab": {
          "base_uri": "https://localhost:8080/",
          "height": 34
        },
        "outputId": "fa2c289b-303c-4100-fdf5-7964e6eeaf2f"
      },
      "source": [
        "y_train.shape"
      ],
      "execution_count": null,
      "outputs": [
        {
          "output_type": "execute_result",
          "data": {
            "text/plain": [
              "(60000,)"
            ]
          },
          "metadata": {
            "tags": []
          },
          "execution_count": 14
        }
      ]
    },
    {
      "cell_type": "code",
      "metadata": {
        "id": "fkwBRXflaA6d",
        "colab_type": "code",
        "colab": {
          "base_uri": "https://localhost:8080/",
          "height": 34
        },
        "outputId": "564780f2-1d27-45c4-a666-176532738d9c"
      },
      "source": [
        "x_test.shape"
      ],
      "execution_count": null,
      "outputs": [
        {
          "output_type": "execute_result",
          "data": {
            "text/plain": [
              "(10000, 28, 28)"
            ]
          },
          "metadata": {
            "tags": []
          },
          "execution_count": 15
        }
      ]
    },
    {
      "cell_type": "code",
      "metadata": {
        "id": "HI3SSQUPaCi5",
        "colab_type": "code",
        "colab": {
          "base_uri": "https://localhost:8080/",
          "height": 34
        },
        "outputId": "abc44933-fc6f-4ca5-9a40-58326f735088"
      },
      "source": [
        "y_test.shape"
      ],
      "execution_count": null,
      "outputs": [
        {
          "output_type": "execute_result",
          "data": {
            "text/plain": [
              "(10000,)"
            ]
          },
          "metadata": {
            "tags": []
          },
          "execution_count": 19
        }
      ]
    },
    {
      "cell_type": "code",
      "metadata": {
        "id": "-a0pXqiJCyFK",
        "colab_type": "code",
        "colab": {}
      },
      "source": [
        "x_train = x_train.astype(np.float32)\n",
        "x_test = x_test.astype(np.float32)"
      ],
      "execution_count": null,
      "outputs": []
    },
    {
      "cell_type": "markdown",
      "metadata": {
        "id": "A11rdU7sbfhj",
        "colab_type": "text"
      },
      "source": [
        "## Normalization and Flattening"
      ]
    },
    {
      "cell_type": "code",
      "metadata": {
        "id": "AtNNJc5kaD7f",
        "colab_type": "code",
        "colab": {}
      },
      "source": [
        "x_train = x_train/255\n",
        "x_test = x_test/255"
      ],
      "execution_count": null,
      "outputs": []
    },
    {
      "cell_type": "code",
      "metadata": {
        "id": "0lGRHynDaf13",
        "colab_type": "code",
        "colab": {}
      },
      "source": [
        "num_features = 28*28  #784\n",
        "num_classes = 10"
      ],
      "execution_count": null,
      "outputs": []
    },
    {
      "cell_type": "code",
      "metadata": {
        "id": "LTYRYx0Wbo-3",
        "colab_type": "code",
        "colab": {}
      },
      "source": [
        "x_train = x_train.reshape([-1, num_features])\n",
        "x_test = x_test.reshape([-1, num_features])"
      ],
      "execution_count": null,
      "outputs": []
    },
    {
      "cell_type": "markdown",
      "metadata": {
        "id": "uduLGsaGiQ3N",
        "colab_type": "text"
      },
      "source": [
        "## Define model hyper-parameters"
      ]
    },
    {
      "cell_type": "code",
      "metadata": {
        "id": "5RwCxap9gHZz",
        "colab_type": "code",
        "colab": {}
      },
      "source": [
        "lr = 0.01\n",
        "batch_size = 128\n",
        "epochs = 25\n",
        "batches_count = int(len(x_train)/batch_size)"
      ],
      "execution_count": null,
      "outputs": []
    },
    {
      "cell_type": "markdown",
      "metadata": {
        "id": "maCOnQFhiUX0",
        "colab_type": "text"
      },
      "source": [
        "## Batch Dataset (with shuffle)"
      ]
    },
    {
      "cell_type": "code",
      "metadata": {
        "id": "Swvsa3R4iYed",
        "colab_type": "code",
        "colab": {}
      },
      "source": [
        "tr_data = tf.data.Dataset.from_tensor_slices((x_train, y_train))"
      ],
      "execution_count": null,
      "outputs": []
    },
    {
      "cell_type": "code",
      "metadata": {
        "id": "t_VQzF63jRlY",
        "colab_type": "code",
        "colab": {}
      },
      "source": [
        "tr_data = tr_data.shuffle(len(x_train))"
      ],
      "execution_count": null,
      "outputs": []
    },
    {
      "cell_type": "code",
      "metadata": {
        "id": "_MsFrkf0kEv3",
        "colab_type": "code",
        "colab": {}
      },
      "source": [
        "tr_data = tr_data.batch(batch_size=batch_size)"
      ],
      "execution_count": null,
      "outputs": []
    },
    {
      "cell_type": "markdown",
      "metadata": {
        "id": "1evcPk52cFdx",
        "colab_type": "text"
      },
      "source": [
        "## Define model parameters/varaibles"
      ]
    },
    {
      "cell_type": "code",
      "metadata": {
        "id": "B-7u3rz_cevJ",
        "colab_type": "code",
        "colab": {
          "base_uri": "https://localhost:8080/",
          "height": 34
        },
        "outputId": "d5911f57-7190-466f-e376-86886307cd08"
      },
      "source": [
        "x_train.dtype"
      ],
      "execution_count": null,
      "outputs": [
        {
          "output_type": "execute_result",
          "data": {
            "text/plain": [
              "dtype('float32')"
            ]
          },
          "metadata": {
            "tags": []
          },
          "execution_count": 28
        }
      ]
    },
    {
      "cell_type": "code",
      "metadata": {
        "id": "4_70usVEcAtB",
        "colab_type": "code",
        "colab": {}
      },
      "source": [
        "def initializeModelParams():\n",
        "  W = tf.Variable(tf.random.normal([num_features, num_classes], dtype=tf.float32))\n",
        "  b = tf.Variable(tf.random.normal([num_classes,], dtype=tf.float32))\n",
        "  return W, b"
      ],
      "execution_count": null,
      "outputs": []
    },
    {
      "cell_type": "markdown",
      "metadata": {
        "id": "wei8gRNkdlYe",
        "colab_type": "text"
      },
      "source": [
        "## Defining the model"
      ]
    },
    {
      "cell_type": "code",
      "metadata": {
        "id": "lezTq5JgcgNL",
        "colab_type": "code",
        "colab": {}
      },
      "source": [
        "def logistic_regression(X, W, b):\n",
        "  logits = tf.matmul(X, W) + b\n",
        "  return logits"
      ],
      "execution_count": null,
      "outputs": []
    },
    {
      "cell_type": "markdown",
      "metadata": {
        "id": "jvcW54K7eEqr",
        "colab_type": "text"
      },
      "source": [
        "## Define the loss"
      ]
    },
    {
      "cell_type": "code",
      "metadata": {
        "id": "VLtM9g2zeD7T",
        "colab_type": "code",
        "colab": {}
      },
      "source": [
        "def cross_entropy(pred_label, true_label):\n",
        "  true_label = tf.one_hot(true_label, num_classes)\n",
        "  loss = -tf.reduce_mean((true_label * tf.math.log(pred_label+ (1e-7))))\n",
        "  return loss"
      ],
      "execution_count": null,
      "outputs": []
    },
    {
      "cell_type": "code",
      "metadata": {
        "id": "FIbci5qGfUZy",
        "colab_type": "code",
        "colab": {}
      },
      "source": [
        "## Aside\n",
        "# ce = tf.nn.softmax_cross_entropy_with_logits(labels=true_labels, logits=pred_labels)\n",
        "# ce_loss = tf.reduce_mean(ce)"
      ],
      "execution_count": null,
      "outputs": []
    },
    {
      "cell_type": "markdown",
      "metadata": {
        "id": "SlVjZi2vfRig",
        "colab_type": "text"
      },
      "source": [
        "## Define Optimizer"
      ]
    },
    {
      "cell_type": "code",
      "metadata": {
        "id": "-hPoJRbPfDCR",
        "colab_type": "code",
        "colab": {}
      },
      "source": [
        "optimizer = tf.optimizers.Adam(learning_rate=lr)"
      ],
      "execution_count": null,
      "outputs": []
    },
    {
      "cell_type": "markdown",
      "metadata": {
        "id": "TF9VPAVZhPph",
        "colab_type": "text"
      },
      "source": [
        "## Define accuracy metric"
      ]
    },
    {
      "cell_type": "code",
      "metadata": {
        "id": "GogF5DUOhSXU",
        "colab_type": "code",
        "colab": {}
      },
      "source": [
        "def calculate_accuracy(pred_labels, true_labels):\n",
        "    correct_predictions = tf.equal(tf.argmax(pred_labels, axis=1), tf.cast(true_labels, tf.int64))\n",
        "    return tf.reduce_mean(tf.cast(correct_predictions, tf.float32))"
      ],
      "execution_count": null,
      "outputs": []
    },
    {
      "cell_type": "markdown",
      "metadata": {
        "id": "zjLo0f7WlJfg",
        "colab_type": "text"
      },
      "source": [
        "## Training loop"
      ]
    },
    {
      "cell_type": "code",
      "metadata": {
        "id": "cvQxI1TAlIxb",
        "colab_type": "code",
        "colab": {}
      },
      "source": [
        "def train(tr_dataset):\n",
        "  weights, bias = initializeModelParams()\n",
        "  for epoch in range(epochs):\n",
        "    print(epoch)\n",
        "    total_loss = 0\n",
        "    \n",
        "    for batch, (X, Y) in enumerate(tr_dataset.take(batches_count), 1):\n",
        "      with tf.GradientTape() as grad:\n",
        "        logits = logistic_regression(X, weights, bias)\n",
        "        pred_labels = tf.nn.softmax(logits=logits)\n",
        "        loss = cross_entropy(pred_labels, Y)\n",
        "      grads = grad.gradient(loss, [weights, bias])\n",
        "      optimizer.apply_gradients(zip(grads, [weights, bias]))\n",
        "      total_loss += loss\n",
        "      accuracy = calculate_accuracy(pred_labels, Y)\n",
        "\n",
        "    print(\"epoch: \", epoch)\n",
        "    print(\"loss: \", total_loss)\n",
        "    print(\"acc: \", accuracy)\n",
        "    \n",
        "  return weights, bias"
      ],
      "execution_count": null,
      "outputs": []
    },
    {
      "cell_type": "code",
      "metadata": {
        "id": "s4VsUQYAhtF9",
        "colab_type": "code",
        "colab": {
          "base_uri": "https://localhost:8080/",
          "height": 1000
        },
        "outputId": "e1281cf4-ba0b-41d1-e063-528852888529"
      },
      "source": [
        "tuned_weights, tuned_bias = train(tr_data)"
      ],
      "execution_count": null,
      "outputs": [
        {
          "output_type": "stream",
          "text": [
            "0\n",
            "epoch:  0\n",
            "loss:  tf.Tensor(61.611023, shape=(), dtype=float32)\n",
            "acc:  tf.Tensor(0.9140625, shape=(), dtype=float32)\n",
            "1\n",
            "epoch:  1\n",
            "loss:  tf.Tensor(23.885195, shape=(), dtype=float32)\n",
            "acc:  tf.Tensor(0.921875, shape=(), dtype=float32)\n",
            "2\n",
            "epoch:  2\n",
            "loss:  tf.Tensor(19.737759, shape=(), dtype=float32)\n",
            "acc:  tf.Tensor(0.8984375, shape=(), dtype=float32)\n",
            "3\n",
            "epoch:  3\n",
            "loss:  tf.Tensor(17.432928, shape=(), dtype=float32)\n",
            "acc:  tf.Tensor(0.9296875, shape=(), dtype=float32)\n",
            "4\n",
            "epoch:  4\n",
            "loss:  tf.Tensor(16.165466, shape=(), dtype=float32)\n",
            "acc:  tf.Tensor(0.90625, shape=(), dtype=float32)\n",
            "5\n",
            "epoch:  5\n",
            "loss:  tf.Tensor(15.446478, shape=(), dtype=float32)\n",
            "acc:  tf.Tensor(0.90625, shape=(), dtype=float32)\n",
            "6\n",
            "epoch:  6\n",
            "loss:  tf.Tensor(14.686227, shape=(), dtype=float32)\n",
            "acc:  tf.Tensor(0.9140625, shape=(), dtype=float32)\n",
            "7\n",
            "epoch:  7\n",
            "loss:  tf.Tensor(14.280325, shape=(), dtype=float32)\n",
            "acc:  tf.Tensor(0.953125, shape=(), dtype=float32)\n",
            "8\n",
            "epoch:  8\n",
            "loss:  tf.Tensor(14.022488, shape=(), dtype=float32)\n",
            "acc:  tf.Tensor(0.953125, shape=(), dtype=float32)\n",
            "9\n",
            "epoch:  9\n",
            "loss:  tf.Tensor(13.662418, shape=(), dtype=float32)\n",
            "acc:  tf.Tensor(0.921875, shape=(), dtype=float32)\n",
            "10\n",
            "epoch:  10\n",
            "loss:  tf.Tensor(13.335437, shape=(), dtype=float32)\n",
            "acc:  tf.Tensor(0.9140625, shape=(), dtype=float32)\n",
            "11\n",
            "epoch:  11\n",
            "loss:  tf.Tensor(13.23813, shape=(), dtype=float32)\n",
            "acc:  tf.Tensor(0.9296875, shape=(), dtype=float32)\n",
            "12\n",
            "epoch:  12\n",
            "loss:  tf.Tensor(13.109481, shape=(), dtype=float32)\n",
            "acc:  tf.Tensor(0.90625, shape=(), dtype=float32)\n",
            "13\n",
            "epoch:  13\n",
            "loss:  tf.Tensor(12.871014, shape=(), dtype=float32)\n",
            "acc:  tf.Tensor(0.9296875, shape=(), dtype=float32)\n",
            "14\n",
            "epoch:  14\n",
            "loss:  tf.Tensor(12.757937, shape=(), dtype=float32)\n",
            "acc:  tf.Tensor(0.9609375, shape=(), dtype=float32)\n",
            "15\n",
            "epoch:  15\n",
            "loss:  tf.Tensor(12.572407, shape=(), dtype=float32)\n",
            "acc:  tf.Tensor(0.890625, shape=(), dtype=float32)\n",
            "16\n",
            "epoch:  16\n",
            "loss:  tf.Tensor(12.713307, shape=(), dtype=float32)\n",
            "acc:  tf.Tensor(0.921875, shape=(), dtype=float32)\n",
            "17\n",
            "epoch:  17\n",
            "loss:  tf.Tensor(12.515552, shape=(), dtype=float32)\n",
            "acc:  tf.Tensor(0.9375, shape=(), dtype=float32)\n",
            "18\n",
            "epoch:  18\n",
            "loss:  tf.Tensor(12.519206, shape=(), dtype=float32)\n",
            "acc:  tf.Tensor(0.859375, shape=(), dtype=float32)\n",
            "19\n",
            "epoch:  19\n",
            "loss:  tf.Tensor(12.333936, shape=(), dtype=float32)\n",
            "acc:  tf.Tensor(0.9296875, shape=(), dtype=float32)\n",
            "20\n",
            "epoch:  20\n",
            "loss:  tf.Tensor(12.286478, shape=(), dtype=float32)\n",
            "acc:  tf.Tensor(0.890625, shape=(), dtype=float32)\n",
            "21\n",
            "epoch:  21\n",
            "loss:  tf.Tensor(12.263155, shape=(), dtype=float32)\n",
            "acc:  tf.Tensor(0.9296875, shape=(), dtype=float32)\n",
            "22\n",
            "epoch:  22\n",
            "loss:  tf.Tensor(12.186149, shape=(), dtype=float32)\n",
            "acc:  tf.Tensor(0.890625, shape=(), dtype=float32)\n",
            "23\n",
            "epoch:  23\n",
            "loss:  tf.Tensor(12.165464, shape=(), dtype=float32)\n",
            "acc:  tf.Tensor(0.9609375, shape=(), dtype=float32)\n",
            "24\n",
            "epoch:  24\n",
            "loss:  tf.Tensor(12.112681, shape=(), dtype=float32)\n",
            "acc:  tf.Tensor(0.9375, shape=(), dtype=float32)\n"
          ],
          "name": "stdout"
        }
      ]
    },
    {
      "cell_type": "markdown",
      "metadata": {
        "id": "R2_cePpDT4FA",
        "colab_type": "text"
      },
      "source": [
        "## Test the model"
      ]
    },
    {
      "cell_type": "code",
      "metadata": {
        "id": "C7WQEFePTqp_",
        "colab_type": "code",
        "colab": {
          "base_uri": "https://localhost:8080/"
        },
        "outputId": "1311a8ea-8c4c-4823-e48b-5603c7507087"
      },
      "source": [
        "test_pred_labels = logistic_regression(x_test, tuned_weights, tuned_bias)\n",
        "test_accuracy = calculate_accuracy(test_pred_labels, y_test)\n",
        "\n",
        "print(\"Test Accuracy: \", test_accuracy.numpy()*100)"
      ],
      "execution_count": null,
      "outputs": [
        {
          "output_type": "stream",
          "text": [
            "Test Accuracy:  91.51999950408936\n"
          ],
          "name": "stdout"
        }
      ]
    },
    {
      "cell_type": "code",
      "metadata": {
        "id": "eS0k1OOMnD_n",
        "colab_type": "code",
        "colab": {}
      },
      "source": [
        ""
      ],
      "execution_count": null,
      "outputs": []
    }
  ]
}